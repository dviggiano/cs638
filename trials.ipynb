{
 "cells": [
  {
   "cell_type": "markdown",
   "source": [
    "## Setup"
   ],
   "metadata": {
    "collapsed": false
   },
   "id": "dd255e42ddc0860"
  },
  {
   "cell_type": "code",
   "execution_count": 1,
   "id": "initial_id",
   "metadata": {
    "collapsed": true,
    "ExecuteTime": {
     "end_time": "2024-04-24T21:27:08.371577Z",
     "start_time": "2024-04-24T21:27:08.167196Z"
    }
   },
   "outputs": [],
   "source": [
    "import dotenv, os, openai, csv\n",
    "\n",
    "EXAMPLES_DIR = 'examples'\n",
    "RESULTS_FILENAME = 'results.csv'\n",
    "\n",
    "dotenv.load_dotenv()\n",
    "gpt = openai.OpenAI(api_key=os.getenv('OPENAI_API_KEY'))\n",
    "\n",
    "def prompt_gpt(prompt: str) -> str:\n",
    "    response = gpt.chat.completions.create(\n",
    "        model='gpt-3.5',\n",
    "        messages=[\n",
    "            {\n",
    "                'role': 'user',\n",
    "                'content': prompt,\n",
    "            }\n",
    "        ]\n",
    "    )\n",
    "    output = response.choices[0].message.content.strip()\n",
    "    return output\n",
    "\n",
    "def format_examples(examples: list[dict[str, str]]) -> str:\n",
    "    formatted_examples = \"\"\n",
    "    \n",
    "    for example in examples:\n",
    "        formatted_examples += f\"Q: {example['q']}\\nA: {example['a']}\\n\"\n",
    "    \n",
    "    return formatted_examples\n",
    "\n",
    "def run_trial(case: str, task_class: str, examples: list[dict[str, str]], task: str, results:  list[list[str]]) -> None:\n",
    "    formatted_examples = format_examples(examples)\n",
    "    prompt = f\"{formatted_examples}Q: {task}\"  # formatted_examples ends in new line character\n",
    "    result = prompt_gpt(prompt)\n",
    "    results.append([task_class, case, result])"
   ]
  },
  {
   "cell_type": "markdown",
   "source": [
    "## Load examples and define tasks\n",
    "\n",
    "Examples are stored in CSV files, formatted as follows:\n",
    "```\n",
    "q_1,a_1\n",
    "q2,a_2\n",
    "...\n",
    "q_n,a_n\n",
    "```"
   ],
   "metadata": {
    "collapsed": false
   },
   "id": "50f3a3e896d5dd8c"
  },
  {
   "cell_type": "code",
   "execution_count": 2,
   "outputs": [
    {
     "ename": "FileNotFoundError",
     "evalue": "[Errno 2] No such file or directory: 'examples/Math.csv'",
     "output_type": "error",
     "traceback": [
      "\u001B[0;31m---------------------------------------------------------------------------\u001B[0m",
      "\u001B[0;31mFileNotFoundError\u001B[0m                         Traceback (most recent call last)",
      "Cell \u001B[0;32mIn[2], line 15\u001B[0m\n\u001B[1;32m     12\u001B[0m \u001B[38;5;28;01mfor\u001B[39;00m task_class \u001B[38;5;129;01min\u001B[39;00m tasks_by_task_class\u001B[38;5;241m.\u001B[39mkeys():\n\u001B[1;32m     13\u001B[0m     path \u001B[38;5;241m=\u001B[39m os\u001B[38;5;241m.\u001B[39mpath\u001B[38;5;241m.\u001B[39mjoin(EXAMPLES_DIR, \u001B[38;5;124mf\u001B[39m\u001B[38;5;124m'\u001B[39m\u001B[38;5;132;01m{\u001B[39;00mtask_class\u001B[38;5;132;01m}\u001B[39;00m\u001B[38;5;124m.csv\u001B[39m\u001B[38;5;124m'\u001B[39m)\n\u001B[0;32m---> 15\u001B[0m     \u001B[38;5;28;01mwith\u001B[39;00m \u001B[38;5;28;43mopen\u001B[39;49m\u001B[43m(\u001B[49m\u001B[43mpath\u001B[49m\u001B[43m,\u001B[49m\u001B[43m \u001B[49m\u001B[43mnewline\u001B[49m\u001B[38;5;241;43m=\u001B[39;49m\u001B[38;5;124;43m'\u001B[39;49m\u001B[38;5;124;43m'\u001B[39;49m\u001B[43m,\u001B[49m\u001B[43m \u001B[49m\u001B[43mencoding\u001B[49m\u001B[38;5;241;43m=\u001B[39;49m\u001B[38;5;124;43m'\u001B[39;49m\u001B[38;5;124;43mutf-8\u001B[39;49m\u001B[38;5;124;43m'\u001B[39;49m\u001B[43m)\u001B[49m \u001B[38;5;28;01mas\u001B[39;00m f:\n\u001B[1;32m     16\u001B[0m         reader \u001B[38;5;241m=\u001B[39m csv\u001B[38;5;241m.\u001B[39mreader(f)\n\u001B[1;32m     17\u001B[0m         examples_by_task_class[task_class] \u001B[38;5;241m=\u001B[39m [{\u001B[38;5;124m'\u001B[39m\u001B[38;5;124mq\u001B[39m\u001B[38;5;124m'\u001B[39m: row[\u001B[38;5;241m0\u001B[39m], \u001B[38;5;124m'\u001B[39m\u001B[38;5;124ma\u001B[39m\u001B[38;5;124m'\u001B[39m: row[\u001B[38;5;241m1\u001B[39m]} \u001B[38;5;28;01mfor\u001B[39;00m row \u001B[38;5;129;01min\u001B[39;00m reader]\n",
      "File \u001B[0;32m~/Library/CloudStorage/OneDrive-Personal/Documents/School/CS 638/Project/venv/lib/python3.9/site-packages/IPython/core/interactiveshell.py:310\u001B[0m, in \u001B[0;36m_modified_open\u001B[0;34m(file, *args, **kwargs)\u001B[0m\n\u001B[1;32m    303\u001B[0m \u001B[38;5;28;01mif\u001B[39;00m file \u001B[38;5;129;01min\u001B[39;00m {\u001B[38;5;241m0\u001B[39m, \u001B[38;5;241m1\u001B[39m, \u001B[38;5;241m2\u001B[39m}:\n\u001B[1;32m    304\u001B[0m     \u001B[38;5;28;01mraise\u001B[39;00m \u001B[38;5;167;01mValueError\u001B[39;00m(\n\u001B[1;32m    305\u001B[0m         \u001B[38;5;124mf\u001B[39m\u001B[38;5;124m\"\u001B[39m\u001B[38;5;124mIPython won\u001B[39m\u001B[38;5;124m'\u001B[39m\u001B[38;5;124mt let you open fd=\u001B[39m\u001B[38;5;132;01m{\u001B[39;00mfile\u001B[38;5;132;01m}\u001B[39;00m\u001B[38;5;124m by default \u001B[39m\u001B[38;5;124m\"\u001B[39m\n\u001B[1;32m    306\u001B[0m         \u001B[38;5;124m\"\u001B[39m\u001B[38;5;124mas it is likely to crash IPython. If you know what you are doing, \u001B[39m\u001B[38;5;124m\"\u001B[39m\n\u001B[1;32m    307\u001B[0m         \u001B[38;5;124m\"\u001B[39m\u001B[38;5;124myou can use builtins\u001B[39m\u001B[38;5;124m'\u001B[39m\u001B[38;5;124m open.\u001B[39m\u001B[38;5;124m\"\u001B[39m\n\u001B[1;32m    308\u001B[0m     )\n\u001B[0;32m--> 310\u001B[0m \u001B[38;5;28;01mreturn\u001B[39;00m \u001B[43mio_open\u001B[49m\u001B[43m(\u001B[49m\u001B[43mfile\u001B[49m\u001B[43m,\u001B[49m\u001B[43m \u001B[49m\u001B[38;5;241;43m*\u001B[39;49m\u001B[43margs\u001B[49m\u001B[43m,\u001B[49m\u001B[43m \u001B[49m\u001B[38;5;241;43m*\u001B[39;49m\u001B[38;5;241;43m*\u001B[39;49m\u001B[43mkwargs\u001B[49m\u001B[43m)\u001B[49m\n",
      "\u001B[0;31mFileNotFoundError\u001B[0m: [Errno 2] No such file or directory: 'examples/Math.csv'"
     ]
    }
   ],
   "source": [
    "tasks_by_task_class = {  # TODO add tasks (questions that will follow examples)\n",
    "    # \"Math\": \"\",\n",
    "    # \"CSQA\": \"\",\n",
    "    # \"StrategyQA\": \"\",\n",
    "    # \"Dates\": \"\",\n",
    "    # \"Sports\": \"\",\n",
    "    # \"SayCan\": \"\"\n",
    "}\n",
    "\n",
    "examples_by_task_class = {}  # TODO add examples into CSVs (ideally 12 or 16 total)\n",
    "\n",
    "for task_class in tasks_by_task_class.keys():\n",
    "    path = os.path.join(EXAMPLES_DIR, f'{task_class}.csv')\n",
    "    \n",
    "    with open(path, newline='', encoding='utf-8') as f:\n",
    "        reader = csv.reader(f)\n",
    "        examples_by_task_class[task_class] = [{'q': row[0], 'a': row[1]} for row in reader]"
   ],
   "metadata": {
    "collapsed": false,
    "ExecuteTime": {
     "end_time": "2024-04-24T21:27:08.574526Z",
     "start_time": "2024-04-24T21:27:08.373082Z"
    }
   },
   "id": "3905b4563a67f04e"
  },
  {
   "cell_type": "markdown",
   "source": [
    "## Run trials"
   ],
   "metadata": {
    "collapsed": false
   },
   "id": "3ecfd9896481419"
  },
  {
   "cell_type": "code",
   "execution_count": null,
   "outputs": [],
   "source": [
    "results = [[\"Task Class\", \"Case\", \"Response\"]]\n",
    "\n",
    "for task_class, examples in examples_by_task_class.items():\n",
    "    task = tasks_by_task_class[task_class]\n",
    "    half_n = len(examples) // 2\n",
    "    # case 1: use n / 2 examples\n",
    "        # case 1a: use the first n / 2 examples\n",
    "    case1a_examples = examples[:half_n]\n",
    "    run_trial(\"1a\", task_class, case1a_examples, task, results)\n",
    "        # case 1b: use the other n / 2 examples\n",
    "    case1b_examples = examples[half_n:]\n",
    "    run_trial(\"1a\", task_class, case1b_examples, task, results)\n",
    "    # case 2: use all n examples\n",
    "    case2_examples = examples\n",
    "    run_trial(\"2\", task_class, case2_examples, task, results)\n",
    "    # case 3: use n / 2 examples, duplicated (for n total examples)\n",
    "        # case 3a: use the first n / 2 examples\n",
    "    case3a_examples = examples[:half_n] + examples[:half_n]\n",
    "    run_trial(\"3a\", task_class, case3a_examples, task, results)\n",
    "        # case 3b: use the other n / 2 examples\n",
    "    case3b_examples = examples[half_n:] + examples[half_n:]\n",
    "    run_trial(\"3b\", task_class, case3b_examples, task, results)\n",
    "    # TODO other cases\n",
    "\n",
    "with open(RESULTS_FILENAME, 'w', newline='') as f:\n",
    "    writer = csv.writer(f)\n",
    "    \n",
    "    for row in results:\n",
    "        writer.writerow(row)"
   ],
   "metadata": {
    "collapsed": false,
    "ExecuteTime": {
     "start_time": "2024-04-24T21:27:08.573434Z"
    }
   },
   "id": "95e4fc3a15872072"
  }
 ],
 "metadata": {
  "kernelspec": {
   "display_name": "Python 3",
   "language": "python",
   "name": "python3"
  },
  "language_info": {
   "codemirror_mode": {
    "name": "ipython",
    "version": 2
   },
   "file_extension": ".py",
   "mimetype": "text/x-python",
   "name": "python",
   "nbconvert_exporter": "python",
   "pygments_lexer": "ipython2",
   "version": "2.7.6"
  }
 },
 "nbformat": 4,
 "nbformat_minor": 5
}
