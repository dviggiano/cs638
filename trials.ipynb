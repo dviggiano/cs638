{
 "cells": [
  {
   "cell_type": "markdown",
   "source": [
    "## Setup"
   ],
   "metadata": {
    "collapsed": false
   },
   "id": "dd255e42ddc0860"
  },
  {
   "cell_type": "code",
   "execution_count": 3,
   "id": "initial_id",
   "metadata": {
    "collapsed": true,
    "ExecuteTime": {
     "end_time": "2024-04-24T19:51:34.454044Z",
     "start_time": "2024-04-24T19:51:34.444075Z"
    }
   },
   "outputs": [],
   "source": [
    "import dotenv, os, openai, csv\n",
    "\n",
    "EXAMPLES_DIR = './examples'\n",
    "RESULTS_DIR = './results'\n",
    "\n",
    "dotenv.load_dotenv()\n",
    "gpt = openai.OpenAI(api_key=os.getenv('OPENAI_API_KEY'))\n",
    "\n",
    "def prompt_gpt(prompt: str) -> str:\n",
    "    response = gpt.chat.completions.create(\n",
    "        model='gpt-3.5',\n",
    "        messages=[\n",
    "            {\n",
    "                'role': 'user',\n",
    "                'content': prompt,\n",
    "            }\n",
    "        ]\n",
    "    )\n",
    "    output = response.choices[0].message.content.strip()\n",
    "    return output"
   ]
  },
  {
   "cell_type": "markdown",
   "source": [
    "## Load examples\n",
    "\n",
    "Data is formatted in CSV files as follows:\n",
    "```\n",
    "q_1,a_1\n",
    "q2,a_2\n",
    "...\n",
    "q_n,a_n\n",
    "```"
   ],
   "metadata": {
    "collapsed": false
   },
   "id": "50f3a3e896d5dd8c"
  },
  {
   "cell_type": "code",
   "execution_count": 4,
   "outputs": [],
   "source": [
    "examples_by_task_class = {}\n",
    "\n",
    "for filename in os.listdir(EXAMPLES_DIR):\n",
    "    if filename.endswith('.csv'):\n",
    "        path = os.path.join(EXAMPLES_DIR, filename)\n",
    "        \n",
    "        with open(path, newline='', encoding='utf-8') as f:\n",
    "            reader = csv.reader(f)\n",
    "            task_class = filename[:-4]\n",
    "            examples_by_task_class[task_class] = [{'q': row[0], 'a': row[1]} for row in reader]"
   ],
   "metadata": {
    "collapsed": false,
    "ExecuteTime": {
     "end_time": "2024-04-24T19:51:35.231655Z",
     "start_time": "2024-04-24T19:51:35.229638Z"
    }
   },
   "id": "3905b4563a67f04e"
  },
  {
   "cell_type": "markdown",
   "source": [
    "## Run trials"
   ],
   "metadata": {
    "collapsed": false
   },
   "id": "3ecfd9896481419"
  },
  {
   "cell_type": "code",
   "execution_count": 5,
   "outputs": [],
   "source": [
    "for task_class, examples in examples_by_task_class.items():\n",
    "    # case 1: use n / 2 examples\n",
    "        # case 1a: use the first n / 2 examples\n",
    "        # case 1b: use the other n / 2 examples\n",
    "    # case 2: use all n examples\n",
    "    # case 3: use n / 2 examples, duplicated (for n total examples)\n",
    "        # case 3a: use the first n / 2 examples\n",
    "        # case 3b: use the other n / 2 examples\n",
    "    # other cases\n",
    "    \n",
    "    # prompt GPT in each case, accumulate responses and save to output file in RESULTS_DIR for each task_class\n",
    "    pass"
   ],
   "metadata": {
    "collapsed": false,
    "ExecuteTime": {
     "end_time": "2024-04-24T19:51:36.360847Z",
     "start_time": "2024-04-24T19:51:36.354828Z"
    }
   },
   "id": "95e4fc3a15872072"
  }
 ],
 "metadata": {
  "kernelspec": {
   "display_name": "Python 3",
   "language": "python",
   "name": "python3"
  },
  "language_info": {
   "codemirror_mode": {
    "name": "ipython",
    "version": 2
   },
   "file_extension": ".py",
   "mimetype": "text/x-python",
   "name": "python",
   "nbconvert_exporter": "python",
   "pygments_lexer": "ipython2",
   "version": "2.7.6"
  }
 },
 "nbformat": 4,
 "nbformat_minor": 5
}
