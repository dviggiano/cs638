{
 "cells": [
  {
   "cell_type": "markdown",
   "source": [
    "## Setup"
   ],
   "metadata": {
    "collapsed": false
   },
   "id": "dd255e42ddc0860"
  },
  {
   "cell_type": "code",
   "execution_count": 3,
   "id": "initial_id",
   "metadata": {
    "collapsed": true,
    "ExecuteTime": {
     "end_time": "2024-04-30T07:09:10.329881Z",
     "start_time": "2024-04-30T07:09:10.321188Z"
    }
   },
   "outputs": [],
   "source": [
    "import dotenv, os, openai, csv, random\n",
    "from collections import defaultdict\n",
    "from datasets import load_dataset\n",
    "\n",
    "RESULTS_DIR = 'results'\n",
    "NUM_EXAMPLES = 12\n",
    "NUM_TRIALS = 4\n",
    "\n",
    "dotenv.load_dotenv()\n",
    "gpt = openai.OpenAI(api_key=os.getenv('OPENAI_API_KEY'))\n",
    "\n",
    "def prompt_gpt(prompt: str) -> str:\n",
    "    response = gpt.chat.completions.create(\n",
    "        model='gpt-3.5-turbo',\n",
    "        messages=[\n",
    "            {\n",
    "                'role': 'user',\n",
    "                'content': prompt,\n",
    "            }\n",
    "        ]\n",
    "    )\n",
    "    output = response.choices[0].message.content.strip()\n",
    "    return output\n",
    "\n",
    "def format_examples(examples: list[dict[str, str]]) -> str:\n",
    "    formatted_examples = \"\"\n",
    "    \n",
    "    for example in examples:\n",
    "        formatted_examples += f\"Q: {example['q']}\\nA: {example['a']}\\n\"\n",
    "    \n",
    "    return formatted_examples\n",
    "\n",
    "def run_trial(case: str, task_class: str, examples: list[dict[str, str]], task: dict[str, str], results:  list[list[str]]):\n",
    "    formatted_examples = format_examples(examples)\n",
    "    prompt = f\"{formatted_examples}Q: {task['q']}\"  # formatted_examples ends in new line character\n",
    "    result = prompt_gpt(prompt)\n",
    "    results.append([task_class, case, formatted_examples, result, task['a']])"
   ]
  },
  {
   "cell_type": "markdown",
   "source": [
    "## Run trials"
   ],
   "metadata": {
    "collapsed": false
   },
   "id": "50f3a3e896d5dd8c"
  },
  {
   "cell_type": "code",
   "execution_count": null,
   "outputs": [],
   "source": [
    "for t in range(NUM_TRIALS):\n",
    "    math_dataset = load_dataset('gsm8k', 'main')\n",
    "    csqa_dataset = load_dataset('tau/commonsense_qa')\n",
    "    strategyqa_dataset = load_dataset('ChilleD/StrategyQA')\n",
    "    saycan_dataset_raw = load_dataset('chiayewken/saycan')['test']  # only one set\n",
    "    saycan_dataset = []\n",
    "    \n",
    "    for i in range(len(saycan_dataset_raw)):\n",
    "        saycan_dataset.append({\n",
    "            'q': saycan_dataset_raw['INPUT'][i], \n",
    "            'a': saycan_dataset_raw['OUTPUT'][i]\n",
    "        })\n",
    "        \n",
    "    math_task = random.choice(math_dataset['test'])\n",
    "    csqa_task = random.choice(csqa_dataset['test'])\n",
    "    \n",
    "    csqa_task_choices = \"\"\n",
    "    \n",
    "    for i in range(5):\n",
    "        csqa_task_choices += f\"\\n{csqa_task['choices']['label'][i]}: {csqa_task['choices']['text'][i]}\"\n",
    "        \n",
    "    strategyqa_task = random.choice(strategyqa_dataset['test'])\n",
    "    saycan_task = saycan_dataset.pop(random.randint(0, len(saycan_dataset)))\n",
    "    \n",
    "    tasks_by_task_class = {\n",
    "        \"Math\": {\n",
    "            'q': math_task['question'],\n",
    "            'a': math_task['answer']\n",
    "        },\n",
    "        \"CSQA\": {\n",
    "            'q': csqa_task['question'] + csqa_task_choices,\n",
    "            'a': csqa_task['answerKey']\n",
    "        },\n",
    "        \"StrategyQA\": {\n",
    "            'q': strategyqa_task['facts'] + '\\n' + strategyqa_task['question'],\n",
    "            'a': str(strategyqa_task['answer'])\n",
    "        },\n",
    "        \"SayCan\": saycan_task\n",
    "    }\n",
    "    \n",
    "    examples_by_task_class = defaultdict(list)\n",
    "    \n",
    "    for example in random.sample(list(math_dataset['train']), NUM_EXAMPLES):\n",
    "        examples_by_task_class[\"Math\"].append({\n",
    "            'q': example['question'],\n",
    "            'a': example['answer']\n",
    "        })\n",
    "        \n",
    "    for example in random.sample(list(csqa_dataset['train']), NUM_EXAMPLES):\n",
    "        choices = \"\"\n",
    "        \n",
    "        for i in range(5):\n",
    "            choices += f\"\\n{example['choices']['label'][i]}: {example['choices']['text'][i]}\"\n",
    "        \n",
    "        examples_by_task_class[\"CSQA\"].append({\n",
    "            'q': example['question'] + choices,\n",
    "            'a': example['answerKey']\n",
    "        })\n",
    "        \n",
    "    for example in random.sample(list(strategyqa_dataset['train']), NUM_EXAMPLES):\n",
    "        examples_by_task_class[\"StrategyQA\"].append({\n",
    "            'q': example['facts'] + '\\n' + example['question'],\n",
    "            'a': str(example['answer'])\n",
    "        })\n",
    "        \n",
    "    examples_by_task_class[\"SayCan\"] = random.sample(saycan_dataset, NUM_EXAMPLES)\n",
    "    \n",
    "    results = [[\"Task Class\", \"Case\", \"Examples\", \"Response\", \"True Answer\"]]\n",
    "    \n",
    "    for task_class, examples in examples_by_task_class.items():\n",
    "        task = tasks_by_task_class[task_class]\n",
    "        half_n = NUM_EXAMPLES // 2\n",
    "        # case 1: use n / 2 examples\n",
    "            # case 1a: use the first n / 2 examples\n",
    "        case1a_examples = examples[:half_n]\n",
    "        run_trial(\"1a\", task_class, case1a_examples, task, results)\n",
    "            # case 1b: use the other n / 2 examples\n",
    "        case1b_examples = examples[half_n:]\n",
    "        run_trial(\"1a\", task_class, case1b_examples, task, results)\n",
    "        # case 2: use all n examples\n",
    "        case2_examples = examples\n",
    "        run_trial(\"2\", task_class, case2_examples, task, results)\n",
    "        # case 3: use n / 2 examples, duplicated (for n total examples)\n",
    "            # case 3a: use the first n / 2 examples\n",
    "        case3a_examples = examples[:half_n] + examples[:half_n]\n",
    "        run_trial(\"3a\", task_class, case3a_examples, task, results)\n",
    "            # case 3b: use the other n / 2 examples\n",
    "        case3b_examples = examples[half_n:] + examples[half_n:]\n",
    "        run_trial(\"3b\", task_class, case3b_examples, task, results)\n",
    "    \n",
    "    with open(f'{RESULTS_DIR}/{t}.csv', 'w', newline='') as f:\n",
    "        writer = csv.writer(f)\n",
    "        \n",
    "        for row in results:\n",
    "            writer.writerow(row)"
   ],
   "metadata": {
    "collapsed": false,
    "is_executing": true,
    "ExecuteTime": {
     "start_time": "2024-04-30T07:09:11.181495Z"
    }
   },
   "id": "3905b4563a67f04e"
  }
 ],
 "metadata": {
  "kernelspec": {
   "display_name": "Python 3",
   "language": "python",
   "name": "python3"
  },
  "language_info": {
   "codemirror_mode": {
    "name": "ipython",
    "version": 2
   },
   "file_extension": ".py",
   "mimetype": "text/x-python",
   "name": "python",
   "nbconvert_exporter": "python",
   "pygments_lexer": "ipython2",
   "version": "2.7.6"
  }
 },
 "nbformat": 4,
 "nbformat_minor": 5
}
