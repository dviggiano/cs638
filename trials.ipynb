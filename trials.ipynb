{
 "cells": [
  {
   "cell_type": "markdown",
   "source": [
    "## Setup"
   ],
   "metadata": {
    "collapsed": false
   },
   "id": "dd255e42ddc0860"
  },
  {
   "cell_type": "code",
   "execution_count": 1,
   "id": "initial_id",
   "metadata": {
    "collapsed": true,
    "ExecuteTime": {
     "end_time": "2024-04-24T20:58:35.927745Z",
     "start_time": "2024-04-24T20:58:35.753049Z"
    }
   },
   "outputs": [],
   "source": [
    "import dotenv, os, openai, csv\n",
    "\n",
    "EXAMPLES_DIR = 'examples'\n",
    "RESULTS_FILENAME = 'results.csv'\n",
    "\n",
    "dotenv.load_dotenv()\n",
    "gpt = openai.OpenAI(api_key=os.getenv('OPENAI_API_KEY'))\n",
    "\n",
    "def prompt_gpt(prompt: str) -> str:\n",
    "    response = gpt.chat.completions.create(\n",
    "        model='gpt-3.5',\n",
    "        messages=[\n",
    "            {\n",
    "                'role': 'user',\n",
    "                'content': prompt,\n",
    "            }\n",
    "        ]\n",
    "    )\n",
    "    output = response.choices[0].message.content.strip()\n",
    "    return output\n",
    "\n",
    "def format_examples(examples: list[dict[str, str]]) -> str:\n",
    "    addition = \"\"\n",
    "    \n",
    "    for example in examples:\n",
    "        addition += f\"Q: {example['q']}\"\n",
    "        addition += \"\\n\"\n",
    "        addition += f\"A: {example['a']}\"\n",
    "        addition += \"\\n\"\n",
    "    \n",
    "    return addition"
   ]
  },
  {
   "cell_type": "markdown",
   "source": [
    "## Load examples\n",
    "\n",
    "Data is formatted in CSV files as follows:\n",
    "```\n",
    "q_1,a_1\n",
    "q2,a_2\n",
    "...\n",
    "q_n,a_n\n",
    "```"
   ],
   "metadata": {
    "collapsed": false
   },
   "id": "50f3a3e896d5dd8c"
  },
  {
   "cell_type": "code",
   "execution_count": 2,
   "outputs": [],
   "source": [
    "examples_by_task_class = {}  # TODO add examples into CSVs (ideally 12 or 16 total)\n",
    "\n",
    "for filename in os.listdir(EXAMPLES_DIR):\n",
    "    if filename.endswith('.csv'):\n",
    "        path = os.path.join(EXAMPLES_DIR, filename)\n",
    "        \n",
    "        with open(path, newline='', encoding='utf-8') as f:\n",
    "            reader = csv.reader(f)\n",
    "            task_class = filename[:-4]\n",
    "            examples_by_task_class[task_class] = [{'q': row[0], 'a': row[1]} for row in reader]\n",
    "            \n",
    "tasks_by_task_class = {  # TODO for each task class, (key, value) = (task class, answer)\n",
    "    \n",
    "}"
   ],
   "metadata": {
    "collapsed": false,
    "ExecuteTime": {
     "end_time": "2024-04-24T20:58:35.931584Z",
     "start_time": "2024-04-24T20:58:35.929501Z"
    }
   },
   "id": "3905b4563a67f04e"
  },
  {
   "cell_type": "markdown",
   "source": [
    "## Run trials"
   ],
   "metadata": {
    "collapsed": false
   },
   "id": "3ecfd9896481419"
  },
  {
   "cell_type": "code",
   "execution_count": 3,
   "outputs": [],
   "source": [
    "results = [[\"Task Class\", \"Case\", \"Response\"]]\n",
    "\n",
    "for task_class, examples in examples_by_task_class.items():\n",
    "    task = tasks_by_task_class[task_class]\n",
    "    half_n = len(examples) // 2\n",
    "    # case 1: use n / 2 examples\n",
    "        # case 1a: use the first n / 2 examples\n",
    "    case1a_examples = examples[:half_n]\n",
    "    case1a_prompt = format_examples(case1a_examples)\n",
    "    case1a_prompt += f\"Q: {task}\"\n",
    "    case1a_result = prompt_gpt(case1a_prompt)\n",
    "    results.append([task_class, \"1a\", case1a_result])\n",
    "        # case 1b: use the other n / 2 examples\n",
    "    case1b_examples = examples[half_n:]\n",
    "    case1b_prompt = format_examples(case1b_examples)\n",
    "    case1b_prompt += f\"Q: {task}\"\n",
    "    case1b_result = prompt_gpt(case1b_prompt)\n",
    "    results.append([task_class, \"1b\", case1b_result])\n",
    "    # case 2: use all n examples\n",
    "    case2_examples = examples\n",
    "    case2_prompt = format_examples(case2_examples)\n",
    "    case2_prompt += f\"Q: {task}\"\n",
    "    case2_result = prompt_gpt(case2_prompt)\n",
    "    results.append([task_class, \"2\", case2_result])\n",
    "    # case 3: use n / 2 examples, duplicated (for n total examples)\n",
    "        # case 3a: use the first n / 2 examples\n",
    "    case3a_examples = examples[:half_n] + examples[:half_n]\n",
    "    case3a_prompt = format_examples(case3a_examples)\n",
    "    case3a_prompt += f\"Q: {task}\"\n",
    "    case3a_result = prompt_gpt(case3a_prompt)\n",
    "    results.append([task_class, \"3a\", case3a_result])\n",
    "        # case 3b: use the other n / 2 examples\n",
    "    case3b_examples = examples[half_n:] + examples[half_n:]\n",
    "    case3b_prompt = format_examples(case3b_examples)\n",
    "    case3b_prompt += f\"Q: {task}\"\n",
    "    case3b_result = prompt_gpt(case3b_prompt)\n",
    "    results.append([task_class, \"3b\", case3b_result])\n",
    "    # TODO other cases\n",
    "\n",
    "with open(RESULTS_FILENAME, 'w', newline='') as f:\n",
    "    writer = csv.writer(f)\n",
    "    \n",
    "    for row in results:\n",
    "        writer.writerow(row)"
   ],
   "metadata": {
    "collapsed": false,
    "ExecuteTime": {
     "end_time": "2024-04-24T20:58:35.936624Z",
     "start_time": "2024-04-24T20:58:35.934301Z"
    }
   },
   "id": "95e4fc3a15872072"
  }
 ],
 "metadata": {
  "kernelspec": {
   "display_name": "Python 3",
   "language": "python",
   "name": "python3"
  },
  "language_info": {
   "codemirror_mode": {
    "name": "ipython",
    "version": 2
   },
   "file_extension": ".py",
   "mimetype": "text/x-python",
   "name": "python",
   "nbconvert_exporter": "python",
   "pygments_lexer": "ipython2",
   "version": "2.7.6"
  }
 },
 "nbformat": 4,
 "nbformat_minor": 5
}
